{
 "cells": [
  {
   "cell_type": "code",
   "execution_count": 1,
   "metadata": {},
   "outputs": [],
   "source": [
    "\n",
    "import pandas as pd\n",
    "import warnings\n",
    "warnings.filterwarnings('ignore')\n",
    "\n",
    "\n",
    "import pybdshadow\n",
    "MAPBOX_ACCESS_TOKEN = \"pk.eyJ1IjoibmkxbzEiLCJhIjoiY2t3ZDgzMmR5NDF4czJ1cm84Z3NqOGt3OSJ9.yOYP6pxDzXzhbHfyk3uORg\"\n",
    "bounds = [139.803137,35.690984,139.804437,35.692684]\n",
    "buildings_gdf = pybdshadow.get_buildings_by_bounds(139.804337,35.692584,139.804437,35.692684,MAPBOX_ACCESS_TOKEN)\n",
    "\n",
    "\n",
    "buildings_gdf['x'] = buildings_gdf.centroid.x\n",
    "buildings_gdf['y'] = buildings_gdf.centroid.y\n",
    "buildings_gdf = buildings_gdf[(buildings_gdf['x'] > bounds[0]) &\n",
    "                      (buildings_gdf['x'] <  bounds[2]) &\n",
    "                      (buildings_gdf['y'] >  bounds[1]) &\n",
    "                      (buildings_gdf['y'] <  bounds[3])]\n",
    "buildings_gdf.plot()"
   ]
  },
  {
   "cell_type": "code",
   "execution_count": 4,
   "metadata": {},
   "outputs": [],
   "source": [
    "precision = 3600\n",
    "date = '2022-01-01'\n",
    "wallsunshine = pybdshadow.cal_sunshine_facade(buildings_gdf, date, precision)\n",
    "\n",
    "\n",
    "floorsunshine = pybdshadow.cal_sunshine(buildings_gdf,\n",
    "                                   day=date,\n",
    "                                   roof=False,\n",
    "                                   accuracy='vector',\n",
    "                                   precision=precision)\n",
    "floorsunshine['height'] = 0\n",
    "\n",
    "roofsunshine = pybdshadow.cal_sunshine(buildings_gdf,\n",
    "                                   day=date,\n",
    "                                   roof=True,\n",
    "                                   accuracy='vector',\n",
    "                                   precision=precision\n",
    "                                   )"
   ]
  },
  {
   "cell_type": "code",
   "execution_count": 15,
   "metadata": {},
   "outputs": [
    {
     "name": "stdout",
     "output_type": "stream",
     "text": [
      "User Guide: https://docs.kepler.gl/docs/keplergl-jupyter\n"
     ]
    },
    {
     "data": {
      "application/vnd.jupyter.widget-view+json": {
       "model_id": "90b88e3da79444708001c3ebdbf20e5d",
       "version_major": 2,
       "version_minor": 0
      },
      "text/plain": [
       "KeplerGl(config={'version': 'v1', 'config': {'visState': {'filters': [], 'layers': [{'id': 'lz48o4', 'type': '…"
      ]
     },
     "metadata": {},
     "output_type": "display_data"
    }
   ],
   "source": [
    "\n",
    "# 生成立体建筑物\n",
    "plane_sunshine = pd.concat([floorsunshine,roofsunshine],axis=0)\n",
    "\n",
    "plane_sunshine['geometry'] = plane_sunshine.apply(lambda x: pybdshadow.extrude_poly(x['geometry'],x['height']),axis=1)\n",
    "\n",
    "final_shadows_sunshinetime = pd.concat([plane_sunshine,wallsunshine],axis=0)\n",
    "\n",
    "vis = pybdshadow.show_sunshine(sunshine = final_shadows_sunshinetime,\n",
    "                  zoom='auto',vis_height = 1000)\n",
    "vis"
   ]
  }
 ],
 "metadata": {
  "kernelspec": {
   "display_name": "py38_native",
   "language": "python",
   "name": "python3"
  },
  "language_info": {
   "codemirror_mode": {
    "name": "ipython",
    "version": 3
   },
   "file_extension": ".py",
   "mimetype": "text/x-python",
   "name": "python",
   "nbconvert_exporter": "python",
   "pygments_lexer": "ipython3",
   "version": "3.8.13"
  }
 },
 "nbformat": 4,
 "nbformat_minor": 2
}
