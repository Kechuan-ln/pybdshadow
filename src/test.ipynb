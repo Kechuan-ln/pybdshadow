{
 "cells": [
  {
   "cell_type": "code",
   "execution_count": 1,
   "metadata": {},
   "outputs": [
    {
     "data": {
      "text/html": [
       "<div>\n",
       "<style scoped>\n",
       "    .dataframe tbody tr th:only-of-type {\n",
       "        vertical-align: middle;\n",
       "    }\n",
       "\n",
       "    .dataframe tbody tr th {\n",
       "        vertical-align: top;\n",
       "    }\n",
       "\n",
       "    .dataframe thead th {\n",
       "        text-align: right;\n",
       "    }\n",
       "</style>\n",
       "<table border=\"1\" class=\"dataframe\">\n",
       "  <thead>\n",
       "    <tr style=\"text-align: right;\">\n",
       "      <th></th>\n",
       "      <th>id</th>\n",
       "      <th>height</th>\n",
       "      <th>x</th>\n",
       "      <th>y</th>\n",
       "      <th>geometry</th>\n",
       "      <th>building_id</th>\n",
       "    </tr>\n",
       "  </thead>\n",
       "  <tbody>\n",
       "    <tr>\n",
       "      <th>0</th>\n",
       "      <td>0</td>\n",
       "      <td>42</td>\n",
       "      <td>139.698802</td>\n",
       "      <td>35.533816</td>\n",
       "      <td>POLYGON ((139.69831 35.53380, 139.69889 35.533...</td>\n",
       "      <td>0</td>\n",
       "    </tr>\n",
       "    <tr>\n",
       "      <th>1</th>\n",
       "      <td>1</td>\n",
       "      <td>9</td>\n",
       "      <td>139.698402</td>\n",
       "      <td>35.534030</td>\n",
       "      <td>POLYGON ((139.69799 35.53417, 139.69882 35.534...</td>\n",
       "      <td>1</td>\n",
       "    </tr>\n",
       "    <tr>\n",
       "      <th>2</th>\n",
       "      <td>2</td>\n",
       "      <td>45</td>\n",
       "      <td>139.698491</td>\n",
       "      <td>35.534637</td>\n",
       "      <td>POLYGON ((139.69864 35.53445, 139.69843 35.534...</td>\n",
       "      <td>2</td>\n",
       "    </tr>\n",
       "    <tr>\n",
       "      <th>3</th>\n",
       "      <td>3</td>\n",
       "      <td>9</td>\n",
       "      <td>139.698784</td>\n",
       "      <td>35.534735</td>\n",
       "      <td>POLYGON ((139.69864 35.53477, 139.69891 35.534...</td>\n",
       "      <td>3</td>\n",
       "    </tr>\n",
       "    <tr>\n",
       "      <th>4</th>\n",
       "      <td>4</td>\n",
       "      <td>90</td>\n",
       "      <td>139.700506</td>\n",
       "      <td>35.536064</td>\n",
       "      <td>POLYGON ((139.70015 35.53590, 139.70062 35.536...</td>\n",
       "      <td>4</td>\n",
       "    </tr>\n",
       "  </tbody>\n",
       "</table>\n",
       "</div>"
      ],
      "text/plain": [
       "   id  height           x          y  \\\n",
       "0   0      42  139.698802  35.533816   \n",
       "1   1       9  139.698402  35.534030   \n",
       "2   2      45  139.698491  35.534637   \n",
       "3   3       9  139.698784  35.534735   \n",
       "4   4      90  139.700506  35.536064   \n",
       "\n",
       "                                            geometry  building_id  \n",
       "0  POLYGON ((139.69831 35.53380, 139.69889 35.533...            0  \n",
       "1  POLYGON ((139.69799 35.53417, 139.69882 35.534...            1  \n",
       "2  POLYGON ((139.69864 35.53445, 139.69843 35.534...            2  \n",
       "3  POLYGON ((139.69864 35.53477, 139.69891 35.534...            3  \n",
       "4  POLYGON ((139.70015 35.53590, 139.70062 35.536...            4  "
      ]
     },
     "execution_count": 1,
     "metadata": {},
     "output_type": "execute_result"
    }
   ],
   "source": [
    "import pandas as pd\n",
    "import geopandas as gpd\n",
    "import pybdshadow\n",
    "#Read building data\n",
    "buildings = gpd.read_file(r'../example/data/bd_demo.json')\n",
    "buildings = pybdshadow.bd_preprocess(buildings)\n",
    "buildings.head(5)"
   ]
  },
  {
   "cell_type": "code",
   "execution_count": 2,
   "metadata": {},
   "outputs": [],
   "source": [
    "#Given UTC time\n",
    "date = pd.to_datetime('2022-01-01 12:45:33.959797119')\\\n",
    "    .tz_localize('Asia/Shanghai')\\\n",
    "    .tz_convert('UTC')\n"
   ]
  },
  {
   "cell_type": "code",
   "execution_count": null,
   "metadata": {},
   "outputs": [],
   "source": []
  }
 ],
 "metadata": {
  "interpreter": {
   "hash": "dc1278a117b258e39a8c676cd6e52381b80a09eab74d29aa426a92eeb385d37e"
  },
  "kernelspec": {
   "display_name": "Python 3.8.13 ('py38_native')",
   "language": "python",
   "name": "python3"
  },
  "language_info": {
   "codemirror_mode": {
    "name": "ipython",
    "version": 3
   },
   "file_extension": ".py",
   "mimetype": "text/x-python",
   "name": "python",
   "nbconvert_exporter": "python",
   "pygments_lexer": "ipython3",
   "version": "3.8.13"
  },
  "orig_nbformat": 4
 },
 "nbformat": 4,
 "nbformat_minor": 2
}
