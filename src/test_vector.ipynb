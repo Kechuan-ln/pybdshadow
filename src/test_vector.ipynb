{
 "cells": [
  {
   "cell_type": "code",
   "execution_count": 34,
   "metadata": {},
   "outputs": [],
   "source": [
    "import pandas as pd\n",
    "import numpy as np\n",
    "import geopandas as gpd\n",
    "import pybdshadow"
   ]
  },
  {
   "cell_type": "markdown",
   "metadata": {},
   "source": [
    "# 数据读取"
   ]
  },
  {
   "cell_type": "code",
   "execution_count": 35,
   "metadata": {},
   "outputs": [],
   "source": [
    "buildings = gpd.read_file(r'../example/data/bd_demo.json')\n",
    "buildings = pybdshadow.bd_preprocess(buildings)"
   ]
  },
  {
   "cell_type": "markdown",
   "metadata": {},
   "source": [
    "# 平行光阴影"
   ]
  },
  {
   "cell_type": "code",
   "execution_count": 36,
   "metadata": {},
   "outputs": [],
   "source": [
    "#sunlight\n",
    "date = pd.to_datetime('2015-01-01 02:45:33.959797119')\n",
    "#shadows = pybdshadow.bdshadow_sunlight(buildings, date,merge = True)"
   ]
  },
  {
   "cell_type": "markdown",
   "metadata": {},
   "source": [
    "# 点光源阴影"
   ]
  },
  {
   "cell_type": "code",
   "execution_count": 37,
   "metadata": {},
   "outputs": [],
   "source": [
    "#pointlight\n",
    "shadows = pybdshadow.bdshadow_pointlight(buildings,139.713319,35.552040,200)"
   ]
  },
  {
   "cell_type": "markdown",
   "metadata": {},
   "source": [
    "# 可视化建筑与阴影"
   ]
  },
  {
   "cell_type": "code",
   "execution_count": 38,
   "metadata": {},
   "outputs": [
    {
     "name": "stdout",
     "output_type": "stream",
     "text": [
      "User Guide: https://docs.kepler.gl/docs/keplergl-jupyter\n"
     ]
    },
    {
     "data": {
      "application/vnd.jupyter.widget-view+json": {
       "model_id": "4c438f413998450685d069272fe6ae49",
       "version_major": 2,
       "version_minor": 0
      },
      "text/plain": [
       "KeplerGl(config={'version': 'v1', 'config': {'visState': {'filters': [], 'layers': [{'id': 'lz48o3', 'type': '…"
      ]
     },
     "metadata": {},
     "output_type": "display_data"
    }
   ],
   "source": [
    "pybdshadow.show_bdshadow(buildings = buildings,shadows = shadows)"
   ]
  },
  {
   "cell_type": "markdown",
   "metadata": {},
   "source": [
    "# 广告可视范围计算"
   ]
  },
  {
   "cell_type": "code",
   "execution_count": 39,
   "metadata": {},
   "outputs": [
    {
     "data": {
      "text/plain": [
       "\" \\nad_params = {'orientation': 1.2806657381630058,\\n             'height': 10,\\n             'brandCenter': [139.71259, 35.552842999999996]} \\n\""
      ]
     },
     "execution_count": 39,
     "metadata": {},
     "output_type": "execute_result"
    }
   ],
   "source": [
    "#ad_params有两种形式\n",
    "#一：两点位置，高度，会自动计算中心点位置和角度\n",
    "ad_params = {'point1': [139.711861, 35.552040],\n",
    "             'point2': [139.713319, 35.553646],#1861,3646\n",
    "             'height': 50,\n",
    "             }\n",
    "#二：中心点位置，角度，高度\n",
    "''' \n",
    "ad_params = {'orientation': 1.2806657381630058,\n",
    "             'height': 10,\n",
    "             'brandCenter': [139.71259, 35.552842999999996]} \n",
    "'''"
   ]
  },
  {
   "cell_type": "code",
   "execution_count": 40,
   "metadata": {},
   "outputs": [],
   "source": [
    "#计算可视面积\n",
    "visualArea,shadows = pybdshadow.ad_visualArea(ad_params,buildings)"
   ]
  },
  {
   "cell_type": "code",
   "execution_count": 41,
   "metadata": {},
   "outputs": [
    {
     "name": "stdout",
     "output_type": "stream",
     "text": [
      "User Guide: https://docs.kepler.gl/docs/keplergl-jupyter\n"
     ]
    },
    {
     "data": {
      "application/vnd.jupyter.widget-view+json": {
       "model_id": "2034b3d1cc9b496bbe71623a05c40503",
       "version_major": 2,
       "version_minor": 0
      },
      "text/plain": [
       "KeplerGl(config={'version': 'v1', 'config': {'visState': {'filters': [], 'layers': [{'id': 'lz48o1', 'type': '…"
      ]
     },
     "metadata": {},
     "output_type": "display_data"
    }
   ],
   "source": [
    "#从ad_params生成广告的gpf以供可视化\n",
    "billboard_gdf = pybdshadow.ad_to_gdf(ad_params,billboard_height = 100)\n",
    "#可视化\n",
    "pybdshadow.show_bdshadow(buildings=buildings,\n",
    "                         shadows=shadows,\n",
    "                         ad=billboard_gdf,\n",
    "                         ad_visualArea=visualArea)\n"
   ]
  },
  {
   "cell_type": "code",
   "execution_count": null,
   "metadata": {},
   "outputs": [],
   "source": []
  }
 ],
 "metadata": {
  "interpreter": {
   "hash": "40d3a090f54c6569ab1632332b64b2c03c39dcf918b08424e98f38b5ae0af88f"
  },
  "kernelspec": {
   "display_name": "Python 3",
   "language": "python",
   "name": "python3"
  },
  "language_info": {
   "codemirror_mode": {
    "name": "ipython",
    "version": 3
   },
   "file_extension": ".py",
   "mimetype": "text/x-python",
   "name": "python",
   "nbconvert_exporter": "python",
   "pygments_lexer": "ipython3",
   "version": "3.8.8"
  }
 },
 "nbformat": 4,
 "nbformat_minor": 2
}
