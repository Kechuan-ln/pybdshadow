{
 "cells": [
  {
   "cell_type": "code",
   "execution_count": 1,
   "metadata": {},
   "outputs": [],
   "source": [
    "import pandas as pd\n",
    "import numpy as np\n",
    "import geopandas as gpd\n",
    "import pybdshadow\n",
    "from shapely.geometry import Polygon"
   ]
  },
  {
   "cell_type": "code",
   "execution_count": 2,
   "metadata": {},
   "outputs": [],
   "source": [
    "buildings = gpd.read_file(r'../example/data/Suzhoubuildings/苏州(1).shp')\n",
    "buildings = pybdshadow.bd_preprocess(buildings)"
   ]
  },
  {
   "cell_type": "code",
   "execution_count": 3,
   "metadata": {},
   "outputs": [],
   "source": [
    "buildings = gpd.read_file(r'../example/data/bd_demo.json')\n",
    "buildings = pybdshadow.bd_preprocess(buildings)"
   ]
  },
  {
   "cell_type": "code",
   "execution_count": 3,
   "metadata": {},
   "outputs": [],
   "source": [
    "from pybdshadow import *\n",
    "from suncalc import get_position\n",
    "date = pd.to_datetime('2015-01-01 02:45:33.959797119')\n",
    "height = 'height'\n",
    "ground = 0\n",
    "epsg = 3857\n",
    "\n",
    "def bdshadow_sunlight_vector(buildings, date,merge = False, height='height', ground=0, epsg=3857):\n",
    "\n",
    "    building = buildings.copy()\n",
    "    building[height] -= ground\n",
    "    building = building[building[height] > 0]\n",
    "    # calculate position\n",
    "    lon1, lat1, lon2, lat2 = list(building.bounds.mean())\n",
    "    lon = (lon1+lon2)/2\n",
    "    lat = (lat1+lat2)/2\n",
    "    # transform coordinate system\n",
    "    building.crs = 'epsg:4326'\n",
    "    building = building.to_crs(epsg=epsg)\n",
    "\n",
    "    # obtain sun position\n",
    "    sunPosition = get_position(date, lon, lat)\n",
    "    buildingshadow = building.copy()\n",
    "    # walls\n",
    "    a = buildingshadow['geometry'].apply(lambda r:list(r.exterior.coords))\n",
    "    buildingshadow['wall'] = a\n",
    "    buildingshadow = buildingshadow.set_index(['building_id'])\n",
    "    a = buildingshadow.apply(lambda x:pd.Series(x['wall']),axis = 1).unstack()\n",
    "    walls = a[- a.isnull()].reset_index().sort_values(by = ['building_id','level_0'])\n",
    "    walls = pd.merge(walls,buildingshadow['height'].reset_index())\n",
    "    walls['x1'] = walls[0].apply(lambda r:r[0])\n",
    "    walls['y1'] = walls[0].apply(lambda r:r[1])\n",
    "    walls['x2'] = walls['x1'].shift(-1)\n",
    "    walls['y2'] = walls['y1'].shift(-1)\n",
    "    walls = walls[walls['building_id'] == walls['building_id'].shift(-1)]\n",
    "    walls = walls[['x1','y1','x2','y2','building_id','height']]\n",
    "    walls['wall'] = walls.apply(lambda r: [[r['x1'], r['y1']],\n",
    "                                        [r['x2'], r['y2']]], axis=1)\n",
    "    walls_shape = np.array(list(walls['wall']))\n",
    "    # calculate shadow for walls\n",
    "    shadowShape = calSunShadow_vector(walls_shape,walls['height'].values,sunPosition)\n",
    "    walls['geometry'] = list(shadowShape)\n",
    "    walls['geometry'] = walls['geometry'].apply(lambda r:Polygon(r))\n",
    "    walls = gpd.GeoDataFrame(walls)\n",
    "\n",
    "    walls.crs = 'epsg:'+str(epsg)\n",
    "    shadows = walls[['building_id','geometry']].to_crs(epsg=4326)\n",
    "    if merge:\n",
    "        shadows = merge_shadow(shadows)\n",
    "    return shadows"
   ]
  },
  {
   "cell_type": "code",
   "execution_count": 4,
   "metadata": {},
   "outputs": [
    {
     "name": "stdout",
     "output_type": "stream",
     "text": [
      "12.9657142162323\n",
      "37.269726037979126\n",
      "50.474833726882935\n"
     ]
    }
   ],
   "source": [
    "shadows = bdshadow_sunlight_vector(buildings, date)"
   ]
  },
  {
   "cell_type": "code",
   "execution_count": 5,
   "metadata": {},
   "outputs": [
    {
     "name": "stdout",
     "output_type": "stream",
     "text": [
      "User Guide: https://docs.kepler.gl/docs/keplergl-jupyter\n"
     ]
    }
   ],
   "source": [
    "pybdshadow.show_bdshadow(buildings = buildings,shadows = shadows)"
   ]
  },
  {
   "cell_type": "code",
   "execution_count": null,
   "metadata": {},
   "outputs": [],
   "source": []
  }
 ],
 "metadata": {
  "interpreter": {
   "hash": "40d3a090f54c6569ab1632332b64b2c03c39dcf918b08424e98f38b5ae0af88f"
  },
  "kernelspec": {
   "display_name": "Python 3.8.8 ('base')",
   "language": "python",
   "name": "python3"
  },
  "language_info": {
   "codemirror_mode": {
    "name": "ipython",
    "version": 3
   },
   "file_extension": ".py",
   "mimetype": "text/x-python",
   "name": "python",
   "nbconvert_exporter": "python",
   "pygments_lexer": "ipython3",
   "version": "3.8.8"
  },
  "orig_nbformat": 4
 },
 "nbformat": 4,
 "nbformat_minor": 2
}
